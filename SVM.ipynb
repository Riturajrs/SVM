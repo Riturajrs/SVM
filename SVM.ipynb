{
  "nbformat": 4,
  "nbformat_minor": 0,
  "metadata": {
    "colab": {
      "name": "SVM.ipynb",
      "provenance": [],
      "collapsed_sections": [],
      "authorship_tag": "ABX9TyPFo3X26euAQ7AIyiywViCg",
      "include_colab_link": true
    },
    "kernelspec": {
      "name": "python3",
      "display_name": "Python 3"
    },
    "language_info": {
      "name": "python"
    }
  },
  "cells": [
    {
      "cell_type": "markdown",
      "metadata": {
        "id": "view-in-github",
        "colab_type": "text"
      },
      "source": [
        "<a href=\"https://colab.research.google.com/github/Riturajseal2001/SVM/blob/master/SVM.ipynb\" target=\"_parent\"><img src=\"https://colab.research.google.com/assets/colab-badge.svg\" alt=\"Open In Colab\"/></a>"
      ]
    },
    {
      "cell_type": "code",
      "metadata": {
        "colab": {
          "base_uri": "https://localhost:8080/"
        },
        "id": "C2lbQvDjsole",
        "outputId": "da7a15bf-f03e-4547-d1b2-b3e2506a716c"
      },
      "source": [
        "from os import pardir\n",
        "import numpy as np\n",
        "import pandas as pd\n",
        "import matplotlib.pyplot as plt\n",
        "from sklearn.datasets import load_digits\n",
        "\n",
        "digits = load_digits()\n",
        "print(dir(digits))"
      ],
      "execution_count": 6,
      "outputs": [
        {
          "output_type": "stream",
          "name": "stdout",
          "text": [
            "['DESCR', 'data', 'images', 'target', 'target_names']\n"
          ]
        }
      ]
    },
    {
      "cell_type": "code",
      "metadata": {
        "colab": {
          "base_uri": "https://localhost:8080/",
          "height": 296
        },
        "id": "ddB8WAuHtMHv",
        "outputId": "af3bd74c-f6cd-461a-eef8-b24ddd87f83f"
      },
      "source": [
        "df = pd.DataFrame(digits.data)\n",
        "df['target'] = digits.target\n",
        "df['target_names'] = df.target.apply(lambda x : digits.target_names[x])\n",
        "# print(df[df['target'] == 0])\n",
        "from sklearn.model_selection import train_test_split\n",
        "X = df.drop(['target','target_names'],axis='columns')\n",
        "# print(X.head())\n",
        "y = df['target']\n",
        "X_train, X_test, y_train, y_test = train_test_split(X,y,train_size=0.8)\n",
        "from sklearn.svm import SVC\n",
        "acc = 0 \n",
        "i1 = 0\n",
        "acc_list = []\n",
        "C_list = []\n",
        "for i in range(1,100):\n",
        "    model = SVC(C = i)\n",
        "    model.fit(X_train,y_train)\n",
        "    if acc < model.score(X_test,y_test)*100:\n",
        "        acc = model.score(X_test,y_test)*100\n",
        "        i1 = i\n",
        "    acc_list.append(model.score(X_test,y_test)*100)\n",
        "    C_list.append(i)\n",
        "plt.ylabel('Accuracy in %')\n",
        "plt.xlabel('Values of regularization(C)')\n",
        "plt.plot(C_list,acc_list)\n",
        "print(acc,i1)\n",
        "#max accuracy reached is 99.72% with C = 2"
      ],
      "execution_count": 18,
      "outputs": [
        {
          "output_type": "stream",
          "name": "stdout",
          "text": [
            "98.05555555555556 5\n"
          ]
        },
        {
          "output_type": "display_data",
          "data": {
            "image/png": "[encoded data removed]",
            "text/plain": [
              "<Figure size 432x288 with 1 Axes>"
            ]
          },
          "metadata": {
            "needs_background": "light"
          }
        }
      ]
    }
  ]
}